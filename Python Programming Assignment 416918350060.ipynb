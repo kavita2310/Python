{
 "cells": [
  {
   "cell_type": "markdown",
   "metadata": {},
   "source": [
    "Q1 : Take values of length and breadth of a rectangle from user and check if it is square or not.\n"
   ]
  },
  {
   "cell_type": "code",
   "execution_count": 3,
   "metadata": {},
   "outputs": [
    {
     "name": "stdout",
     "output_type": "stream",
     "text": [
      "Enter Breadth\n"
     ]
    },
    {
     "name": "stdin",
     "output_type": "stream",
     "text": [
      "number:  10\n"
     ]
    },
    {
     "name": "stdout",
     "output_type": "stream",
     "text": [
      "enter length\n"
     ]
    },
    {
     "name": "stdin",
     "output_type": "stream",
     "text": [
      "number:  10\n"
     ]
    },
    {
     "name": "stdout",
     "output_type": "stream",
     "text": [
      "Yes, It is Square\n"
     ]
    }
   ],
   "source": [
    "print(\"Enter Breadth\")\n",
    "breadth=int(input(\"number: \"))\n",
    "print(\"enter length\")\n",
    "length=int(input(\"number: \"))\n",
    "if length==breadth:\n",
    "    print(\"Yes, It is Square\")\n",
    "else:\n",
    "    print(\"No, it is only Rectangle\")"
   ]
  },
  {
   "cell_type": "markdown",
   "metadata": {},
   "source": [
    "Q2 : Take Input of 3 numbers and find maximum of them."
   ]
  },
  {
   "cell_type": "code",
   "execution_count": 3,
   "metadata": {},
   "outputs": [
    {
     "name": "stdin",
     "output_type": "stream",
     "text": [
      "1st number:  4\n",
      "2nd number:  5\n",
      "3rd number:  6\n"
     ]
    },
    {
     "name": "stdout",
     "output_type": "stream",
     "text": [
      "The maximum number is: 6\n"
     ]
    }
   ],
   "source": [
    "a=int(input(\"1st number: \"))\n",
    "b=int(input(\"2nd number: \"))\n",
    "c=int(input(\"3rd number: \"))\n",
    "if a>b and a>c:\n",
    "    maximum=a\n",
    "elif b>a and b>c:\n",
    "    maximum=b\n",
    "else:\n",
    "    maximum=c\n",
    "print(\"The maximum number is: \"+str(maximum))    \n",
    "\n"
   ]
  },
  {
   "cell_type": "markdown",
   "metadata": {},
   "source": [
    "Q3 : Find the year is leap year or not."
   ]
  },
  {
   "cell_type": "code",
   "execution_count": 5,
   "metadata": {},
   "outputs": [
    {
     "name": "stdout",
     "output_type": "stream",
     "text": [
      "leap year\n"
     ]
    }
   ],
   "source": [
    "yr=2024\n",
    "if yr%4==0:\n",
    "    print(\"leap year\")\n",
    "elif yr%400==0:\n",
    "    print(\"leap year\")\n",
    "elif yr%100==o:\n",
    "    print(\"not leap year\")\n",
    "else:\n",
    "    print('no leap year')\n",
    "          \n",
    "    "
   ]
  },
  {
   "cell_type": "markdown",
   "metadata": {},
   "source": [
    "Q4 : Print First 10 natural numbers using while loop."
   ]
  },
  {
   "cell_type": "code",
   "execution_count": 8,
   "metadata": {},
   "outputs": [
    {
     "name": "stdout",
     "output_type": "stream",
     "text": [
      "0\n",
      "1\n",
      "2\n",
      "3\n",
      "4\n",
      "5\n",
      "6\n",
      "7\n",
      "8\n",
      "9\n",
      "10\n"
     ]
    }
   ],
   "source": [
    "i=0\n",
    "while i<11:\n",
    "      print(i)\n",
    "      i=i+1"
   ]
  },
  {
   "cell_type": "markdown",
   "metadata": {},
   "source": [
    "Q5 : Print the following pattern.\n",
    "\n",
    "1 \n",
    "\n",
    "1 2 \n",
    "\n",
    "1 2 3 \n",
    "\n",
    "1 2 3 4 \n",
    "\n",
    "1 2 3 4 5"
   ]
  },
  {
   "cell_type": "code",
   "execution_count": 2,
   "metadata": {},
   "outputs": [
    {
     "name": "stdout",
     "output_type": "stream",
     "text": [
      "1 \n",
      "1 2 \n",
      "1 2 3 \n",
      "1 2 3 4 \n",
      "1 2 3 4 5 \n"
     ]
    }
   ],
   "source": [
    "for j in range(1,6):\n",
    "    for i in range(1,j+1):\n",
    "        print(i,end=\" \")\n",
    "    print()    \n"
   ]
  },
  {
   "cell_type": "markdown",
   "metadata": {},
   "source": [
    "Q6 : Print the following pattern.\n",
    "\n",
    "+\n",
    "\n",
    "++\n",
    "\n",
    "+++\n",
    "\n",
    "++++\n",
    "\n",
    "+++++\n",
    "\n",
    "++++\n",
    "\n",
    "+++\n",
    "\n",
    "++\n",
    "\n",
    "+"
   ]
  },
  {
   "cell_type": "code",
   "execution_count": 7,
   "metadata": {},
   "outputs": [
    {
     "name": "stdout",
     "output_type": "stream",
     "text": [
      "+ + + + \n",
      "+ + + \n",
      "+ + \n",
      "+ \n",
      "\n",
      "+ \n",
      "+ + \n",
      "+ + + \n",
      "+ + + + \n",
      "+ + + + + \n"
     ]
    }
   ],
   "source": [
    "row=5\n",
    "for i in range(row,0,-1):\n",
    "    for j in range(0,i-1):\n",
    "        print(\"+\",end=\" \")\n",
    "    print(\"\\r\")  \n",
    "for i in range(0,row):\n",
    "    for j in range(0,i+1):\n",
    "        print(\"+\",end=\" \")\n",
    "    print(\"\\r\")    \n"
   ]
  },
  {
   "cell_type": "markdown",
   "metadata": {},
   "source": [
    "Q7 : Find the sum of the series 1 + 11 + 111 + 1111 + .. n terms. (take input of n from User)"
   ]
  },
  {
   "cell_type": "code",
   "execution_count": 6,
   "metadata": {},
   "outputs": [
    {
     "name": "stdout",
     "output_type": "stream",
     "text": [
      "1\n",
      "11\n",
      "12\n",
      "111\n",
      "123\n",
      "1111\n",
      "1234\n",
      "11111\n",
      "12345\n",
      "111111\n"
     ]
    }
   ],
   "source": [
    "num=1\n",
    "sum=0\n",
    "n=5\n",
    "for i in range(1,n+1):\n",
    "    sum=sum+num\n",
    "    print(sum)\n",
    "    num=num*10+1\n",
    "    print(num)"
   ]
  },
  {
   "cell_type": "markdown",
   "metadata": {},
   "source": [
    "Q8 : Display the cube of the number up to a given integer specified by user."
   ]
  },
  {
   "cell_type": "code",
   "execution_count": 3,
   "metadata": {},
   "outputs": [
    {
     "name": "stdin",
     "output_type": "stream",
     "text": [
      "number:  1234\n"
     ]
    }
   ],
   "source": [
    "num=int(input(\"number: \"))        \n",
    "\n"
   ]
  },
  {
   "cell_type": "code",
   "execution_count": 4,
   "metadata": {},
   "outputs": [
    {
     "name": "stdout",
     "output_type": "stream",
     "text": [
      "4\n",
      "64\n",
      "3\n",
      "91\n",
      "2\n",
      "99\n",
      "1\n",
      "100\n"
     ]
    },
    {
     "data": {
      "text/plain": [
       "100"
      ]
     },
     "execution_count": 4,
     "metadata": {},
     "output_type": "execute_result"
    }
   ],
   "source": [
    "su=0\n",
    "while num!=0:\n",
    "    rem=num%10\n",
    "    print(rem)\n",
    "    su=su+(rem**3)\n",
    "    print(su)\n",
    "    num=num//10\n",
    "su    "
   ]
  },
  {
   "cell_type": "markdown",
   "metadata": {},
   "source": [
    "Q9 : Use a loop to display elements from a given list which are present at even positions.\n",
    "\n",
    "List = [1,2,3,4,5,6,7,8,9,0]"
   ]
  },
  {
   "cell_type": "code",
   "execution_count": 11,
   "metadata": {},
   "outputs": [],
   "source": [
    "list=[1,2,3,4,5,6,7,8,9,0]"
   ]
  },
  {
   "cell_type": "code",
   "execution_count": 12,
   "metadata": {},
   "outputs": [
    {
     "data": {
      "text/plain": [
       "[1, 2, 3, 4, 5, 6, 7, 8, 9, 0]"
      ]
     },
     "execution_count": 12,
     "metadata": {},
     "output_type": "execute_result"
    }
   ],
   "source": [
    "list"
   ]
  },
  {
   "cell_type": "code",
   "execution_count": 14,
   "metadata": {},
   "outputs": [
    {
     "name": "stdout",
     "output_type": "stream",
     "text": [
      "2 4 6 8 0 "
     ]
    }
   ],
   "source": [
    "for i in list[1::2]:\n",
    "    print(i,end=\" \")"
   ]
  },
  {
   "cell_type": "markdown",
   "metadata": {},
   "source": [
    "\n",
    "Q10 : Reverse a user defined integer number."
   ]
  },
  {
   "cell_type": "code",
   "execution_count": 5,
   "metadata": {},
   "outputs": [],
   "source": [
    "num=987698643"
   ]
  },
  {
   "cell_type": "code",
   "execution_count": 6,
   "metadata": {},
   "outputs": [
    {
     "name": "stdout",
     "output_type": "stream",
     "text": [
      "346896789"
     ]
    }
   ],
   "source": [
    "rev=0\n",
    "while num>0:\n",
    "      rem=num%10\n",
    "      print(rem,end=\"\")\n",
    "      rev=rev+rem\n",
    "      num=num//10\n"
   ]
  }
 ],
 "metadata": {
  "kernelspec": {
   "display_name": "Python 3 (ipykernel)",
   "language": "python",
   "name": "python3"
  },
  "language_info": {
   "codemirror_mode": {
    "name": "ipython",
    "version": 3
   },
   "file_extension": ".py",
   "mimetype": "text/x-python",
   "name": "python",
   "nbconvert_exporter": "python",
   "pygments_lexer": "ipython3",
   "version": "3.11.7"
  }
 },
 "nbformat": 4,
 "nbformat_minor": 4
}
